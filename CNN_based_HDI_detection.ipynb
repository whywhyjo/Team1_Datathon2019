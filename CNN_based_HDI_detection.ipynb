{
 "cells": [
  {
   "cell_type": "code",
   "execution_count": 1,
   "metadata": {
    "colab": {},
    "colab_type": "code",
    "id": "UfmluU-OqzY1"
   },
   "outputs": [
    {
     "ename": "ModuleNotFoundError",
     "evalue": "No module named 'google'",
     "output_type": "error",
     "traceback": [
      "\u001b[0;31m---------------------------------------------------------------------------\u001b[0m",
      "\u001b[0;31mModuleNotFoundError\u001b[0m                       Traceback (most recent call last)",
      "\u001b[0;32m<ipython-input-1-fdf3f2268e03>\u001b[0m in \u001b[0;36m<module>\u001b[0;34m\u001b[0m\n\u001b[1;32m      1\u001b[0m \u001b[0;34m\u001b[0m\u001b[0m\n\u001b[1;32m      2\u001b[0m \u001b[0;31m# Imports for accessing Datathon data using Google BigQuery.\u001b[0m\u001b[0;34m\u001b[0m\u001b[0;34m\u001b[0m\u001b[0;34m\u001b[0m\u001b[0m\n\u001b[0;32m----> 3\u001b[0;31m \u001b[0;32mfrom\u001b[0m \u001b[0mgoogle\u001b[0m\u001b[0;34m.\u001b[0m\u001b[0mcolab\u001b[0m \u001b[0;32mimport\u001b[0m \u001b[0mauth\u001b[0m\u001b[0;34m\u001b[0m\u001b[0;34m\u001b[0m\u001b[0m\n\u001b[0m\u001b[1;32m      4\u001b[0m \u001b[0;32mfrom\u001b[0m \u001b[0mgoogle\u001b[0m\u001b[0;34m.\u001b[0m\u001b[0mcloud\u001b[0m \u001b[0;32mimport\u001b[0m \u001b[0mbigquery\u001b[0m\u001b[0;34m\u001b[0m\u001b[0;34m\u001b[0m\u001b[0m\n\u001b[1;32m      5\u001b[0m \u001b[0;32mimport\u001b[0m \u001b[0mos\u001b[0m\u001b[0;34m\u001b[0m\u001b[0;34m\u001b[0m\u001b[0m\n",
      "\u001b[0;31mModuleNotFoundError\u001b[0m: No module named 'google'"
     ]
    }
   ],
   "source": [
    "\n",
    "# Imports for accessing Datathon data using Google BigQuery.\n",
    "from google.colab import auth\n",
    "from google.cloud import bigquery\n",
    "import os\n",
    "# Note that this should be the project for the datathon work,\n",
    "# not the physionet-data project which is for data hosting.\n",
    "project_id = 'korea-datathon-2019'\n",
    "os.environ['GOOGLE_CLOUD_PROJECT'] = project_id\n",
    "# Authenticate user\n",
    "auth.authenticate_user()\n"
   ]
  },
  {
   "cell_type": "code",
   "execution_count": null,
   "metadata": {
    "colab": {
     "base_uri": "https://localhost:8080/",
     "height": 122
    },
    "colab_type": "code",
    "executionInfo": {
     "elapsed": 37597,
     "status": "ok",
     "timestamp": 1569067109518,
     "user": {
      "displayName": "조용연",
      "photoUrl": "",
      "userId": "16004706694547039978"
     },
     "user_tz": -540
    },
    "id": "q90oIhW0r3AZ",
    "outputId": "3ba70cb6-8493-4d26-9cb5-1263d9eb42e0"
   },
   "outputs": [],
   "source": [
    "from google.colab import drive\n",
    "drive.mount('/content/drive')"
   ]
  },
  {
   "cell_type": "code",
   "execution_count": 2,
   "metadata": {},
   "outputs": [],
   "source": [
    "%reload_ext autoreload\n",
    "%autoreload 2"
   ]
  },
  {
   "cell_type": "code",
   "execution_count": 3,
   "metadata": {
    "colab": {},
    "colab_type": "code",
    "id": "ue1SBN2BqugW"
   },
   "outputs": [],
   "source": [
    "import torch\n",
    "import scipy\n",
    "import numpy as np\n",
    "import pandas as pd\n",
    "import torch.nn as nn\n",
    "import matplotlib.pyplot as plt\n",
    "import os\n",
    "from torch.utils.data import Dataset\n",
    "import Utils\n",
    "%reload_ext autoreload\n",
    "%autoreload 2\n",
    "        \n",
    "class SkipConnection (nn.Module):\n",
    "    def __init__(self,in_channel,out_channel,keep_dim=True):\n",
    "        super(SkipConnection,self).__init__()\n",
    "\n",
    "        if in_channel != out_channel:\n",
    "            self.conv1d = nn.Conv1d(in_channel,out_channel,1)\n",
    "        initialize_weights(self)\n",
    "    def forward(self,before,after):\n",
    "        '''\n",
    "        :param before: the tensor before passing convolution blocks\n",
    "        :param after: the tensor of output from convolution blocks\n",
    "        :return: the sum of inputs\n",
    "        '''\n",
    "        if before.shape[2] != after.shape[2]: # if the length is different (1/2)\n",
    "            before = nn.functional.max_pool1d(before,2,2)\n",
    "\n",
    "        if before.shape[1] != after.shape[1]:\n",
    "            before = self.conv1d(before)\n",
    "        return before + after\n",
    "    \n",
    "class ResidualBlock (nn.Module):\n",
    "    def __init__(self,in_channel,out_channel,pool=False,kernel_size=15,\n",
    "                 activation=nn.LeakyReLU(),do=0.5):\n",
    "        super(ResidualBlock,self).__init__()\n",
    "        self.pool = pool\n",
    "        self.block = nn.Sequential(\n",
    "            nn.BatchNorm1d(in_channel),\n",
    "            activation,\n",
    "            nn.Dropout(do),\n",
    "            nn.Conv1d(in_channel,out_channel, kernel_size,1,kernel_size // 2),\n",
    "            nn.BatchNorm1d(out_channel),\n",
    "            activation,\n",
    "            nn.Dropout(do),\n",
    "            nn.Conv1d(out_channel,out_channel, kernel_size,1,kernel_size // 2)\n",
    "        )\n",
    "        self.skip = SkipConnection(in_channel,out_channel)\n",
    "        initialize_weights(self)\n",
    "        \n",
    "    def forward(self, input):  \n",
    "        out = self.block(input)\n",
    "        if self.pool:\n",
    "            out = nn.functional.max_pool1d(out,2,2)\n",
    "        out = self.skip(input,out)\n",
    "\n",
    "        return out\n",
    "\n",
    "\n",
    "class ResidualEncoder (nn.Module):\n",
    "    def __init__(self,seq_length, num_channel,kernel_size,\n",
    "                 do,activation):\n",
    "        assert (kernel_size//2)%2, print('kernel_size//2 must be odds')\n",
    "\n",
    "        super(ResidualEncoder,self).__init__()\n",
    "        self.num_channel = num_channel\n",
    "        self.kernel_size = kernel_size\n",
    "        \n",
    "        self.conv1st = nn.Sequential(\n",
    "            nn.Conv1d(1,self.num_channel,self.kernel_size,1,self.kernel_size//2),\n",
    "            nn.BatchNorm1d(self.num_channel)\n",
    "        )\n",
    "        \n",
    "        self.block_info = [\n",
    "            # in channel , out channel, on/off max_pooling_mode, kernel_size\n",
    "            (self.num_channel,self.num_channel,1,self.kernel_size),\n",
    "            (self.num_channel,self.num_channel,0,self.kernel_size),\n",
    "            (self.num_channel,self.num_channel,1,self.kernel_size),\n",
    "            (self.num_channel,self.num_channel,0,self.kernel_size),\n",
    "            (self.num_channel,self.num_channel*2,1,self.kernel_size),\n",
    "            (self.num_channel*2,self.num_channel*2,0,self.kernel_size),\n",
    "            (self.num_channel*2,self.num_channel*2,1,self.kernel_size//2),\n",
    "            (self.num_channel*2,self.num_channel*2,0,self.kernel_size//2),\n",
    "            (self.num_channel*2,self.num_channel*3,1,self.kernel_size//2),\n",
    "            (self.num_channel*3,self.num_channel*3,0,self.kernel_size//2),\n",
    "            (self.num_channel*3,self.num_channel*3,1,self.kernel_size//2),\n",
    "            (self.num_channel*3,self.num_channel*3,0,self.kernel_size//2),\n",
    "        ]\n",
    "        \n",
    "        self.pool_count = 0\n",
    "        for ch_info in self.block_info:\n",
    "            self.pool_count +=ch_info[2]\n",
    "       \n",
    "        self.output_size = seq_length\n",
    "        \n",
    "        for i in range(self.pool_count):\n",
    "            self.output_size = self.output_size//2\n",
    "  \n",
    "        \n",
    "        \n",
    "        self.encoder = nn.Sequential()\n",
    "        for i,(in_ch,out_ch,max_pooling_mode,kernel_size) in enumerate(self.block_info):\n",
    "            self.encoder.add_module('residual_block_{}'.format(i),\n",
    "                                    ResidualBlock(in_ch,out_ch,max_pooling_mode,kernel_size,activation,do))\n",
    "        initialize_weights(self)\n",
    "        \n",
    "    def forward(self,input):\n",
    "        out = self.conv1st(input)\n",
    "        out = self.encoder(out)\n",
    "        return out\n",
    "\n",
    "\n",
    "class ResidualNetHDI(nn.Module): #\n",
    "    def __init__(self,seq_length,kernel_size,\n",
    "                 num_channel, \n",
    "                 class_num,\n",
    "                 do=0.5,activation=nn.LeakyReLU()):\n",
    "        \n",
    "        super(ResidualNetHDI,self).__init__()\n",
    "        self.seq_length = seq_length  # the number of points of a wave form \n",
    "        self.num_channel = num_channel\n",
    "        self.kernel_size = kernel_size \n",
    "        self.class_num = class_num\n",
    "        \n",
    "        self.encoder = ResidualEncoder(self.seq_length,\n",
    "                                self.num_channel, #channel \n",
    "                                   self.kernel_size,\n",
    "                                   do,activation)\n",
    "        \n",
    "        \n",
    "        self.bn = nn.BatchNorm1d(num_channel*3)\n",
    "        self.out_size = self.encoder.output_size\n",
    "        self.flatten_len = self.out_size*self.num_channel*3\n",
    "        self.linear = torch.nn.Sequential(\n",
    "            nn.Linear(self.flatten_len,32),\n",
    "            nn.LeakyReLU(),\n",
    "            nn.Dropout(do),            \n",
    "          #  nn.Linear(self.hid_size , self.n_classes), # second layer\n",
    "         #   nn.Softmax(dim=1), \n",
    "        )\n",
    "       # self.soft_max = nn.Softmax(1)\n",
    "        initialize_weights(self)\n",
    "        \n",
    "    def forward(self,x): # x : a set of lists consisting of wave forms\n",
    "        out = self.encoder(x)\n",
    "        out = self.linear(out.view(-1,self.flatten_len))\n",
    "        #out = self.soft_max(out)\n",
    "        return out\n",
    "    \n",
    "class HDIClassifier (nn.Module):\n",
    "    def __init__(self,num_wave,seq_len_list,kernel_list,class_num):\n",
    "        self.seq_len_list=seq_len_list\n",
    "        super(HDIClassifier, self).__init__()\n",
    "        \n",
    "        self.ecg = ResidualNetHDI(seq_len_list[0],kernel_list[0],num_channel = 5,class_num=2)\n",
    "        self.eeg = ResidualNetHDI(seq_len_list[1],kernel_list[0],num_channel = 5,class_num=2)\n",
    "        self.abp = ResidualNetHDI(seq_len_list[2],kernel_list[0],num_channel = 5,class_num=2)\n",
    "        \n",
    "        \n",
    "        self.mlp = torch.nn.Sequential(\n",
    "            nn.Linear(32*num_wave,16),\n",
    "            nn.Linear(16 , class_num), \n",
    "            nn.Softmax(dim=1), \n",
    "        )\n",
    "        initialize_weights(self)\n",
    "         \n",
    "    def forward(self,x): \n",
    "        out0 = self.ecg(x[:,:self.seq_len_list[0]].view(-1,1,self.seq_len_list[0]))\n",
    "        out1 = self.eeg(x[:,self.seq_len_list[0]:self.seq_len_list[0]+self.seq_len_list[1]].view(-1,1,self.seq_len_list[1]))\n",
    "        out2 = self.abp(x[:,-self.seq_len_list[2]:].view(-1,1,self.seq_len_list[2]))\n",
    "        \n",
    "        y_hat = self.mlp(torch.cat((out0,out1,out2),1))\n",
    "        return y_hat\n",
    "    \n",
    "def initialize_weights(net):\n",
    "    torch.manual_seed(1)\n",
    "    for m in net.modules():\n",
    "        if isinstance(m, nn.Conv1d):\n",
    "            m.weight.data.normal_(0, 0.02)\n",
    "            m.bias.data.zero_()\n",
    "        elif isinstance(m, nn.Linear):\n",
    "            m.weight.data.normal_(0, 0.01)\n",
    "            m.bias.data.zero_()\n",
    "           # print(m.weight.data)      \n",
    "        "
   ]
  },
  {
   "cell_type": "code",
   "execution_count": 4,
   "metadata": {},
   "outputs": [],
   "source": [
    "ecg_train = pd.read_csv('ecg_training.csv',index_col=0) #5000\n",
    "eeg_train = pd.read_csv('eeg_training.csv',index_col=0) #2560\n",
    "art_train = pd.read_csv('art_training.csv',index_col=0) #5000\n",
    "\n",
    "ecg_test = pd.read_csv('ecg_test.csv',index_col=0)\n",
    "eeg_test = pd.read_csv('eeg_test.csv',index_col=0)\n",
    "art_test = pd.read_csv('art_test.csv',index_col=0)"
   ]
  },
  {
   "cell_type": "code",
   "execution_count": 5,
   "metadata": {},
   "outputs": [],
   "source": [
    "full_trainig_set = pd.concat([ecg_train.iloc[:,:-2],eeg_train.iloc[:,:-2],art_train],axis=1)\n",
    "full_trainig_set = full_trainig_set.dropna()\n",
    "\n",
    "full_test_set = pd.concat([ecg_test.iloc[:,:-2],eeg_test.iloc[:,:-2],art_test],axis=1)\n",
    "full_tset_set = full_test_set.dropna()"
   ]
  },
  {
   "cell_type": "code",
   "execution_count": 55,
   "metadata": {
    "colab_type": "raw",
    "id": "oDbs-k-4qugf"
   },
   "outputs": [
    {
     "name": "stdout",
     "output_type": "stream",
     "text": [
      "- Input shape - \n",
      "Training: (20, 12560) (20,) || Test: (20, 12560) (20,)\n",
      "++++++++++++++++++++++++++++++++++++++++++++++++++\n",
      "Model name: HDIClassifier\n",
      "Model on Host memory\n",
      "0th loss: 0.69,     0th loss:0.69 Complete! Training time: 11.346 sec\n",
      "Testing...    Complete! Testing time: 2.638 sec\n",
      "--------------------------------------------------\n",
      "### Results: \n",
      "201909220251\n",
      "0.047619047619047616\n",
      "    0  1\n",
      "0   1  0\n",
      "1   1  0\n",
      "2   1  0\n",
      "3   1  0\n",
      "4   1  0\n",
      "5   1  0\n",
      "6   1  0\n",
      "7   1  0\n",
      "8   1  0\n",
      "9   1  0\n",
      "10  0  1\n",
      "11  1  0\n",
      "12  1  0\n",
      "13  1  0\n",
      "14  1  0\n",
      "15  1  0\n",
      "16  1  0\n",
      "17  1  0\n",
      "18  1  0\n",
      "19  1  0\n",
      "AUC Ranking!\n",
      "1 HDIClassifier 0.632\n",
      "\n",
      "\n",
      "Average Precision Ranking!\n",
      "1 HDIClassifier 0.125\n"
     ]
    },
    {
     "data": {
      "image/png": "[encoded data removed]",
      "text/plain": [
       "<Figure size 1152x576 with 2 Axes>"
      ]
     },
     "metadata": {},
     "output_type": "display_data"
    }
   ],
   "source": [
    "HDI_cls = HDIClassifier(3,[5000,2560,5000],[15,7,15],class_num=2)\n",
    "tmp_result = {}\n",
    "tmp_result.update(Utils.perform_deep (full_trainig_set.iloc[:,:-2].values, full_trainig_set.iloc[:,-1].values, \n",
    "                                 full_test_set.iloc[:,:-2].values, full_test_set.iloc[:,-1].values, \n",
    "                               [HDI_cls], bat_size=256, epoch=1,lr=0.002)\n",
    ")\n",
    "Utils.evaluation(full_test_set.iloc[:,-1].values, tmp_result)\n"
   ]
  },
  {
   "cell_type": "code",
   "execution_count": null,
   "metadata": {},
   "outputs": [],
   "source": [
    "Utils.evaluation(full_tset_set.iloc[:,-1:], tmp_result)"
   ]
  }
 ],
 "metadata": {
  "accelerator": "GPU",
  "colab": {
   "name": "CNN_based_HDI_detection.ipynb",
   "provenance": []
  },
  "hide_input": false,
  "kernelspec": {
   "display_name": "Python 3",
   "language": "python",
   "name": "python3"
  },
  "language_info": {
   "codemirror_mode": {
    "name": "ipython",
    "version": 3
   },
   "file_extension": ".py",
   "mimetype": "text/x-python",
   "name": "python",
   "nbconvert_exporter": "python",
   "pygments_lexer": "ipython3",
   "version": "3.7.3"
  },
  "toc": {
   "base_numbering": 1,
   "nav_menu": {},
   "number_sections": true,
   "sideBar": true,
   "skip_h1_title": false,
   "title_cell": "Table of Contents",
   "title_sidebar": "Contents",
   "toc_cell": false,
   "toc_position": {},
   "toc_section_display": true,
   "toc_window_display": false
  },
  "varInspector": {
   "cols": {
    "lenName": 16,
    "lenType": 16,
    "lenVar": 40
   },
   "kernels_config": {
    "python": {
     "delete_cmd_postfix": "",
     "delete_cmd_prefix": "del ",
     "library": "var_list.py",
     "varRefreshCmd": "print(var_dic_list())"
    },
    "r": {
     "delete_cmd_postfix": ") ",
     "delete_cmd_prefix": "rm(",
     "library": "var_list.r",
     "varRefreshCmd": "cat(var_dic_list()) "
    }
   },
   "types_to_exclude": [
    "module",
    "function",
    "builtin_function_or_method",
    "instance",
    "_Feature"
   ],
   "window_display": false
  }
 },
 "nbformat": 4,
 "nbformat_minor": 1
}
